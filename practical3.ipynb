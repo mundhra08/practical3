{
  "nbformat": 4,
  "nbformat_minor": 0,
  "metadata": {
    "colab": {
      "name": "practical3.ipynb",
      "provenance": [],
      "collapsed_sections": [],
      "authorship_tag": "ABX9TyMhvUsVMiyBpGds4xCcH32P",
      "include_colab_link": true
    },
    "kernelspec": {
      "name": "python3",
      "display_name": "Python 3"
    },
    "language_info": {
      "name": "python"
    }
  },
  "cells": [
    {
      "cell_type": "markdown",
      "metadata": {
        "id": "view-in-github",
        "colab_type": "text"
      },
      "source": [
        "<a href=\"https://colab.research.google.com/github/mundhra08/practical3/blob/main/practical3.ipynb\" target=\"_parent\"><img src=\"https://colab.research.google.com/assets/colab-badge.svg\" alt=\"Open In Colab\"/></a>"
      ]
    },
    {
      "cell_type": "code",
      "metadata": {
        "id": "9V81wASOkrFn"
      },
      "source": [
        "Library= {} \n",
        "\n",
        "books =[] \n",
        "\n",
        "costs = [] \n",
        "\n",
        "N = int(input(\"Enter No. of Books in Library:\")) \n",
        "\n",
        "for item in range(0,N): \n",
        "\n",
        "  book = input(\"Enter the name of Book:\") \n",
        "\n",
        "  cost = int(input(\"Enter cost of Book:\")) \n",
        "\n",
        "  Library.update({book:cost}) \n",
        "\n",
        "  books.append(book) \n",
        "\n",
        "  costs.append(cost) \n",
        "\n",
        "for (i,j) in zip(books, costs): \n",
        "\n",
        "  print(\"The library contains book ={} and its cost={}\".format(i,j)) \n",
        "\n",
        " \n",
        "\n",
        "def delduplicates(): \n",
        "\n",
        "  for i in Library.items(): \n",
        "\n",
        "    print(\"The library contains\",i) \n",
        "\n",
        "   \n",
        "\n",
        "def arrange(): \n",
        "\n",
        "  sorted_library = sorted(Library.items(), key=lambda x:x[1]) \n",
        "\n",
        "  print(\"The books are ascending order of their cost is :\") \n",
        "\n",
        "  for i in sorted_library: \n",
        "\n",
        "    print(i) \n",
        "\n",
        " \n",
        "\n",
        "def count_books(): \n",
        "\n",
        "  C = [] \n",
        "\n",
        "  count = 0 \n",
        "\n",
        "  for (i,j) in zip(books,costs): \n",
        "\n",
        "    if j>500 in costs: \n",
        "\n",
        "      C.append((i,j)) \n",
        "\n",
        "      count = count + 1 \n",
        "\n",
        "  print(\"Books having cost more then 500 are:\", C) \n",
        "\n",
        "  print(\"Number of books having cost more than 500 is\",count) \n",
        "\n",
        " \n",
        "\n",
        "def below500(): \n",
        "\n",
        "  Z = [] \n",
        "\n",
        "  for (i,j) in zip(books,costs): \n",
        "\n",
        "    if j<=500 in costs: \n",
        "\n",
        "      Z.append((i,j)) \n",
        "\n",
        "  print(\"Books having cost less 500 are:\", Z) \n",
        "\n",
        " \n",
        "\n",
        "delduplicates() \n",
        "\n",
        "arrange() \n",
        "\n",
        "count_books() \n",
        "\n",
        "below500() \n"
      ],
      "execution_count": null,
      "outputs": []
    }
  ]
}